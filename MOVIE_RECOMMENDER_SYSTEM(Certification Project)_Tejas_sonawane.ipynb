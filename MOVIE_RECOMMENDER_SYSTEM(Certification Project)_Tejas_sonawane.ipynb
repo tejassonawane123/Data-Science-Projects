{
 "cells": [
  {
   "cell_type": "code",
   "execution_count": 1,
   "id": "bee06118-e5c6-456f-89e6-62ac829f65f7",
   "metadata": {},
   "outputs": [],
   "source": [
    "import pandas as pd\n",
    "\n",
    "# Load Movies and Ratings dataset\n",
    "movies = pd.read_csv('C:\\\\Users\\\\King\\\\Desktop\\\\DSML Internship\\\\Assignments\\\\Final Certification Project\\\\movies.csv')\n",
    "ratings = pd.read_csv('C:\\\\Users\\\\King\\\\Desktop\\\\DSML Internship\\\\Assignments\\\\Final Certification Project\\\\ratings.csv')\n"
   ]
  },
  {
   "cell_type": "code",
   "execution_count": 2,
   "id": "96df56e2-b37d-4bdf-8fe9-ff207e13d15c",
   "metadata": {},
   "outputs": [
    {
     "name": "stdout",
     "output_type": "stream",
     "text": [
      "   movieId                               title  \\\n",
      "0        1                    Toy Story (1995)   \n",
      "1        2                      Jumanji (1995)   \n",
      "2        3             Grumpier Old Men (1995)   \n",
      "3        4            Waiting to Exhale (1995)   \n",
      "4        5  Father of the Bride Part II (1995)   \n",
      "\n",
      "                                        genres  \n",
      "0  Adventure|Animation|Children|Comedy|Fantasy  \n",
      "1                   Adventure|Children|Fantasy  \n",
      "2                               Comedy|Romance  \n",
      "3                         Comedy|Drama|Romance  \n",
      "4                                       Comedy  \n",
      "   userId  movieId  rating  timestamp\n",
      "0       1        1     4.0  964982703\n",
      "1       1        3     4.0  964981247\n",
      "2       1        6     4.0  964982224\n",
      "3       1       47     5.0  964983815\n",
      "4       1       50     5.0  964982931\n",
      "Unique Users: 610\n",
      "Unique Movies: 9724\n",
      "Genre-wise Movie Count:\n",
      " genre\n",
      "Drama                 4361\n",
      "Comedy                3756\n",
      "Thriller              1894\n",
      "Action                1828\n",
      "Romance               1596\n",
      "Adventure             1263\n",
      "Crime                 1199\n",
      "Sci-Fi                 980\n",
      "Horror                 978\n",
      "Fantasy                779\n",
      "Children               664\n",
      "Animation              611\n",
      "Mystery                573\n",
      "Documentary            440\n",
      "War                    382\n",
      "Musical                334\n",
      "Western                167\n",
      "IMAX                   158\n",
      "Film-Noir               87\n",
      "(no genres listed)      34\n",
      "Name: count, dtype: int64\n",
      "Unique Genres: ['Adventure' 'Animation' 'Children' 'Comedy' 'Fantasy' 'Romance' 'Drama'\n",
      " 'Action' 'Crime' 'Thriller' 'Horror' 'Mystery' 'Sci-Fi' 'War' 'Musical'\n",
      " 'Documentary' 'IMAX' 'Western' 'Film-Noir' '(no genres listed)']\n"
     ]
    }
   ],
   "source": [
    "# Understanding the distribution of features\n",
    "print(movies.head())\n",
    "print(ratings.head())\n",
    "\n",
    "# Finding unique users and movies\n",
    "unique_users = ratings['userId'].nunique()\n",
    "unique_movies = ratings['movieId'].nunique()\n",
    "print(\"Unique Users:\", unique_users)\n",
    "print(\"Unique Movies:\", unique_movies)\n",
    "\n",
    "# Average rating and total movies at the genre level\n",
    "movie_genre = movies['genres'].str.split('|', expand=True).stack().reset_index(level=1, drop=True)\n",
    "movie_genre.name = 'genre'\n",
    "genres_count = movie_genre.value_counts()\n",
    "print(\"Genre-wise Movie Count:\\n\", genres_count)\n",
    "\n",
    "# Unique genres considered\n",
    "unique_genres = movie_genre.unique()\n",
    "print(\"Unique Genres:\", unique_genres)"
   ]
  },
  {
   "cell_type": "code",
   "execution_count": 3,
   "id": "a8bd6b25-be1f-43a3-9f9f-edb2b4e8359a",
   "metadata": {},
   "outputs": [
    {
     "name": "stdout",
     "output_type": "stream",
     "text": [
      "                                                    Num Reviews  \\\n",
      "title                                                             \n",
      "Princess Bride, The (1987)                                  142   \n",
      "Pulp Fiction (1994)                                         307   \n",
      "Amelie (Fabuleux destin d'Amélie Poulain, Le) (...          120   \n",
      "Forrest Gump (1994)                                         329   \n",
      "Monty Python and the Holy Grail (1975)                      136   \n",
      "\n",
      "                                                    Average Movie Rating  \n",
      "title                                                                     \n",
      "Princess Bride, The (1987)                                      4.232394  \n",
      "Pulp Fiction (1994)                                             4.197068  \n",
      "Amelie (Fabuleux destin d'Amélie Poulain, Le) (...              4.183333  \n",
      "Forrest Gump (1994)                                             4.164134  \n",
      "Monty Python and the Holy Grail (1975)                          4.161765  \n"
     ]
    }
   ],
   "source": [
    "def popularity_based_recommender(genre, threshold, n):\n",
    "    genre_movies = movies[movies['genres'].str.contains(genre)]\n",
    "    genre_movie_ratings = pd.merge(genre_movies, ratings, on='movieId')\n",
    "    genre_movie_ratings_count = genre_movie_ratings.groupby('title').size()\n",
    "    genre_movie_ratings_avg = genre_movie_ratings.groupby('title')['rating'].mean()\n",
    "    \n",
    "    popular_movies = pd.DataFrame({'Num Reviews': genre_movie_ratings_count, 'Average Movie Rating': genre_movie_ratings_avg})\n",
    "    popular_movies = popular_movies[popular_movies['Num Reviews'] >= threshold].sort_values(by=['Average Movie Rating'], ascending=False).head(n)\n",
    "    \n",
    "    return popular_movies\n",
    "\n",
    "# Example usage:\n",
    "genre_input = 'Comedy'\n",
    "min_reviews_threshold = 100\n",
    "num_recommendations = 5\n",
    "output_popularity = popularity_based_recommender(genre_input, min_reviews_threshold, num_recommendations)\n",
    "print(output_popularity)\n"
   ]
  },
  {
   "cell_type": "code",
   "execution_count": 4,
   "id": "a9954bf6-6fab-4b06-8eb2-f11dcd3bd5f3",
   "metadata": {},
   "outputs": [
    {
     "name": "stdout",
     "output_type": "stream",
     "text": [
      "1706                                       Antz (1998)\n",
      "2355                                Toy Story 2 (1999)\n",
      "2809    Adventures of Rocky and Bullwinkle, The (2000)\n",
      "3000                  Emperor's New Groove, The (2000)\n",
      "3568                             Monsters, Inc. (2001)\n",
      "Name: title, dtype: object\n"
     ]
    }
   ],
   "source": [
    "from sklearn.feature_extraction.text import TfidfVectorizer\n",
    "from sklearn.metrics.pairwise import linear_kernel\n",
    "\n",
    "def content_based_recommender(movie_title, n):\n",
    "    tfidf = TfidfVectorizer(stop_words='english')\n",
    "    movies['genres'] = movies['genres'].fillna('')\n",
    "    tfidf_matrix = tfidf.fit_transform(movies['genres'])\n",
    "    \n",
    "    cosine_sim = linear_kernel(tfidf_matrix, tfidf_matrix)\n",
    "    idx = movies[movies['title'] == movie_title].index[0]\n",
    "    sim_scores = list(enumerate(cosine_sim[idx]))\n",
    "    sim_scores = sorted(sim_scores, key=lambda x: x[1], reverse=True)\n",
    "    sim_scores = sim_scores[1:n+1]\n",
    "    \n",
    "    movie_indices = [i[0] for i in sim_scores]\n",
    "    return movies['title'].iloc[movie_indices]\n",
    "\n",
    "# Example usage:\n",
    "input_movie_title = 'Toy Story (1995)'\n",
    "num_recommendations_content = 5\n",
    "output_content_based = content_based_recommender(input_movie_title, num_recommendations_content)\n",
    "print(output_content_based)\n"
   ]
  },
  {
   "cell_type": "code",
   "execution_count": 5,
   "id": "0145f6ad-3b47-4caa-9bf3-d0b3a16bd712",
   "metadata": {},
   "outputs": [
    {
     "name": "stdout",
     "output_type": "stream",
     "text": [
      "0                      Toy Story (1995)\n",
      "1                        Jumanji (1995)\n",
      "2               Grumpier Old Men (1995)\n",
      "3              Waiting to Exhale (1995)\n",
      "4    Father of the Bride Part II (1995)\n",
      "Name: title, dtype: object\n"
     ]
    }
   ],
   "source": [
    "from sklearn.metrics.pairwise import cosine_similarity\n",
    "\n",
    "def collaborative_based_recommender(user_id, n, k):\n",
    "    user_movies = ratings[ratings['userId'] == user_id]['movieId']\n",
    "    similar_users = ratings[ratings['movieId'].isin(user_movies)]['userId'].unique()\n",
    "    similar_users = similar_users[similar_users != user_id][:k]\n",
    "    \n",
    "    similar_users_ratings = ratings[ratings['userId'].isin(similar_users)]\n",
    "    similar_users_ratings_grouped = similar_users_ratings.groupby('movieId')['rating'].mean().sort_values(ascending=False)\n",
    "    \n",
    "    movie_ids = similar_users_ratings_grouped.index.tolist()\n",
    "    movie_titles = movies[movies['movieId'].isin(movie_ids)]['title'][:n]\n",
    "    \n",
    "    return movie_titles\n",
    "\n",
    "# Example usage:\n",
    "user_input = 1\n",
    "num_recommendations_collab = 5\n",
    "threshold_similar_users = 100\n",
    "output_collaborative = collaborative_based_recommender(user_input, num_recommendations_collab, threshold_similar_users)\n",
    "print(output_collaborative)\n"
   ]
  },
  {
   "cell_type": "code",
   "execution_count": 6,
   "id": "654c482c-22de-4cf0-b3e4-1af028f3f38d",
   "metadata": {},
   "outputs": [
    {
     "data": {
      "application/vnd.jupyter.widget-view+json": {
       "model_id": "36cc7eb015ec49af82fbf43f39af552d",
       "version_major": 2,
       "version_minor": 0
      },
      "text/plain": [
       "Text(value='', description='Genre:')"
      ]
     },
     "metadata": {},
     "output_type": "display_data"
    },
    {
     "data": {
      "application/vnd.jupyter.widget-view+json": {
       "model_id": "0fadd05aff6748208dea1ad6989905ef",
       "version_major": 2,
       "version_minor": 0
      },
      "text/plain": [
       "IntText(value=0, description='Min Reviews Threshold:')"
      ]
     },
     "metadata": {},
     "output_type": "display_data"
    },
    {
     "data": {
      "application/vnd.jupyter.widget-view+json": {
       "model_id": "55a63d3e352f4a6f88c147351376ba0f",
       "version_major": 2,
       "version_minor": 0
      },
      "text/plain": [
       "IntText(value=0, description='Num Recommendations:')"
      ]
     },
     "metadata": {},
     "output_type": "display_data"
    },
    {
     "data": {
      "application/vnd.jupyter.widget-view+json": {
       "model_id": "5f379cea11cd4e229ab9c8e6ca6fbc71",
       "version_major": 2,
       "version_minor": 0
      },
      "text/plain": [
       "Button(description='Get Recommendations', style=ButtonStyle())"
      ]
     },
     "metadata": {},
     "output_type": "display_data"
    },
    {
     "data": {
      "application/vnd.jupyter.widget-view+json": {
       "model_id": "e0a2bf6fcac74ba48468447c2786c0a2",
       "version_major": 2,
       "version_minor": 0
      },
      "text/plain": [
       "Output()"
      ]
     },
     "metadata": {},
     "output_type": "display_data"
    }
   ],
   "source": [
    "import ipywidgets as widgets\n",
    "from IPython.display import display\n",
    "\n",
    "# Create widgets for inputs\n",
    "genre_input_widget = widgets.Text(description='Genre:')\n",
    "threshold_input_widget = widgets.IntText(description='Min Reviews Threshold:')\n",
    "num_recommendations_widget = widgets.IntText(description='Num Recommendations:')\n",
    "output_widget = widgets.Output()\n",
    "\n",
    "# Define function for handling button click\n",
    "def on_button_click(b):\n",
    "    with output_widget:\n",
    "        output_widget.clear_output()\n",
    "        genre = genre_input_widget.value\n",
    "        threshold = threshold_input_widget.value\n",
    "        n = num_recommendations_widget.value\n",
    "        \n",
    "        recommendations = popularity_based_recommender(genre, threshold, n)\n",
    "        print(recommendations)\n",
    "\n",
    "# Create button for triggering recommendation\n",
    "button = widgets.Button(description='Get Recommendations')\n",
    "button.on_click(on_button_click)\n",
    "\n",
    "# Display widgets and button\n",
    "display(genre_input_widget, threshold_input_widget, num_recommendations_widget, button)\n",
    "display(output_widget)\n"
   ]
  },
  {
   "cell_type": "code",
   "execution_count": null,
   "id": "f406734d-f3a7-41f8-aa0a-0c086142fb0f",
   "metadata": {},
   "outputs": [],
   "source": []
  }
 ],
 "metadata": {
  "kernelspec": {
   "display_name": "Python 3 (ipykernel)",
   "language": "python",
   "name": "python3"
  },
  "language_info": {
   "codemirror_mode": {
    "name": "ipython",
    "version": 3
   },
   "file_extension": ".py",
   "mimetype": "text/x-python",
   "name": "python",
   "nbconvert_exporter": "python",
   "pygments_lexer": "ipython3",
   "version": "3.11.3"
  }
 },
 "nbformat": 4,
 "nbformat_minor": 5
}
